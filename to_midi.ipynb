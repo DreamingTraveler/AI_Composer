{
 "cells": [
  {
   "cell_type": "code",
   "execution_count": 12,
   "metadata": {},
   "outputs": [],
   "source": [
    "import os\n",
    "from music21 import *\n",
    "from glob import glob\n",
    "bach_chorale_path = 'Datasets/bach'\n",
    "\n",
    "def convert_files(files):\n",
    "    file_list = []\n",
    "    file_count = 0\n",
    "    for i, file in enumerate(files, 1):\n",
    "        file_count += 1\n",
    "        file_list.append(file)\n",
    "    return file_list, file_count\n",
    "\n",
    "def insert_part(s):\n",
    "    score = stream.Score()\n",
    "    for part in s.parts:\n",
    "        score.insert(part)\n",
    "    return score\n",
    "    \n",
    "def to_midi_file(file_list):\n",
    "    for i, file in enumerate(file_list):\n",
    "        s = converter.parse(file)\n",
    "        score = insert_part(s)\n",
    "        output_file = 'Datasets/bach(midi)/bach_' + str(i) + '.mid'\n",
    "        mf = midi.translate.music21ObjectToMidiFile(score)\n",
    "        mf.open(output_file, 'wb')\n",
    "        mf.write()\n",
    "        mf.close()\n",
    "        print(output_file + ' written')\n",
    "def load_files():\n",
    "    if os.path.exists(bach_chorale_path):\n",
    "        file_list, num_file = convert_files(glob(bach_chorale_path + '/*.mxl') +\n",
    "                                 glob(bach_chorale_path + '/*.krn')+\n",
    "                                    glob(bach_chorale_path + '/*.xml'))\n",
    "        to_midi_file(file_list)\n",
    "        \n",
    "def main():\n",
    "    load_files()\n",
    "    \n",
    "if __name__ == \"__main__\":\n",
    "    main()"
   ]
  },
  {
   "cell_type": "code",
   "execution_count": null,
   "metadata": {
    "collapsed": true
   },
   "outputs": [],
   "source": []
  }
 ],
 "metadata": {
  "kernelspec": {
   "display_name": "Python 3",
   "language": "python",
   "name": "python3"
  },
  "language_info": {
   "codemirror_mode": {
    "name": "ipython",
    "version": 3
   },
   "file_extension": ".py",
   "mimetype": "text/x-python",
   "name": "python",
   "nbconvert_exporter": "python",
   "pygments_lexer": "ipython3",
   "version": "3.6.4"
  }
 },
 "nbformat": 4,
 "nbformat_minor": 2
}
